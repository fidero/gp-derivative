{
 "cells": [
  {
   "cell_type": "markdown",
   "metadata": {},
   "source": [
    "# Linear logistic regression with HMC"
   ]
  },
  {
   "cell_type": "code",
   "execution_count": 3,
   "metadata": {},
   "outputs": [],
   "source": [
    "import numpy as np\n",
    "from matplotlib import pyplot as plt\n",
    "import time\n",
    "\n",
    "from hamiltonian_mc import HamiltonianMonteCarlo, GPGradientHMC\n",
    "\n",
    "# turn off numpy multithreading\n",
    "import os\n",
    "os.environ['OPENBLAS_NUM_THREADS'] = '1'\n",
    "\n",
    "import sys\n",
    "\n",
    "sys.path.append('../../src')\n",
    "from inference import DerivativeGaussianProcess\n",
    "from kernels import RBF, ExponentialKernel, LinearKernel"
   ]
  },
  {
   "cell_type": "code",
   "execution_count": 4,
   "metadata": {},
   "outputs": [],
   "source": [
    "class Logistic:\n",
    "    \"\"\"\n",
    "    Logistic regression model\n",
    "    \"\"\"\n",
    "\n",
    "    def __init__(self, data_X, data_y, alpha):\n",
    "        \"\"\"\n",
    "        data_X: (N, D); data_y: (N, 1), alpha: float\n",
    "        \"\"\"\n",
    "        self.X = data_X\n",
    "        self.y = data_y\n",
    "        self.alpha = alpha\n",
    "\n",
    "    def _loglikelihood(self, beta):\n",
    "        \"\"\"\n",
    "        Log logistic regression likelihood of beta.\n",
    "        beta: (D, M)\n",
    "        \"\"\"\n",
    "        return(- (np.log(np.exp(self.X @ beta) + 1.0)).sum(axis=0) \\\n",
    "            + np.dot(np.transpose(self.y), np.dot(self.X, beta)))\n",
    "    \n",
    "    def _grad_loglikelihood(self, beta):\n",
    "        \"\"\"\n",
    "        Gradient of Log logistic regression likelihood wrt beta.\n",
    "        beta: (D, M)\n",
    "        \"\"\"\n",
    "        return self.X.T @ (self.y - 1./(1. + np.exp(-self.X @ beta)))\n",
    "\n",
    "    def _logprior(self, beta):\n",
    "        \"\"\"\n",
    "        Log independent Gaussian prior density of beta.\n",
    "        \"\"\"\n",
    "        return -0.5/self.alpha * (beta**2).sum(axis=0)\n",
    "    \n",
    "    def _grad_logprior(self, beta):\n",
    "        \"\"\"\n",
    "        Gradient of Log independent Gaussian prior density wrt beta.\n",
    "        \"\"\"\n",
    "        return - beta / self.alpha\n",
    "\n",
    "    def get_dim(self):\n",
    "        return(self.X.shape[1])\n",
    "\n",
    "    def energy(self, beta):\n",
    "        return -(self._loglikelihood(beta) + self._logprior(beta))\n",
    "\n",
    "    def gradient(self, beta):\n",
    "        return - (self._grad_loglikelihood(beta) + self._grad_logprior(beta))\n",
    "    \n",
    "    def scale(self):\n",
    "        \"\"\"\n",
    "        Typical scale of the energy is N / D (causing it to get really large with increasing N)\n",
    "        \"\"\"\n",
    "        return self.X.shape[1] / self.X.shape[0]"
   ]
  },
  {
   "cell_type": "code",
   "execution_count": 5,
   "metadata": {},
   "outputs": [],
   "source": [
    "def generate_logreg_data(n, beta, prior, sigma=2.):\n",
    "    \"\"\"Generate logistic regression data.\n",
    "    \n",
    "    # Arguments\n",
    "        n: number of observations\n",
    "        beta: regression coefficient vector\n",
    "        prior: Uniform or Gaussian\n",
    "        sigma: parameter of prior (width of hypercube or Gaussian std. dev.)\n",
    "        \n",
    "    # Returns\n",
    "        A list of design matrix and response vector\n",
    "    \"\"\"\n",
    "    d = beta.shape[0]\n",
    "    if prior == 'Uniform':\n",
    "        X = np.random.rand(n, d)*sigma - 1./sigma\n",
    "    elif prior == 'Gaussian':\n",
    "        X = np.sqrt(sigma) * np.random.randn(n, d)\n",
    "        \n",
    "    mu = 1.0 / (1.0 + np.exp(-np.dot(X, beta)))\n",
    "    Y = np.random.binomial(1, mu) * 1.0\n",
    "    return(X, Y)"
   ]
  },
  {
   "cell_type": "markdown",
   "metadata": {},
   "source": [
    "## Generate synthetic data"
   ]
  },
  {
   "cell_type": "code",
   "execution_count": 26,
   "metadata": {},
   "outputs": [],
   "source": [
    "dim = 20\n",
    "nx = 1000\n",
    "\n",
    "np.random.seed(0)\n",
    "\n",
    "theta = 2.*np.random.rand(dim, 1) -1.   # True theta is in [-1,1]\n",
    "X, Y = generate_logreg_data(nx, theta, 'Uniform', 2.)   # X data is in [-1, 1]\n",
    "\n",
    "prior_var = 4.\n",
    "logreg = Logistic(X, Y, prior_var)"
   ]
  },
  {
   "cell_type": "code",
   "execution_count": 27,
   "metadata": {},
   "outputs": [
    {
     "data": {
      "text/plain": [
       "<matplotlib.lines.Line2D at 0x7f9cba09f610>"
      ]
     },
     "execution_count": 27,
     "metadata": {},
     "output_type": "execute_result"
    },
    {
     "data": {
      "image/png": "[encoded data removed]",
      "text/plain": [
       "<Figure size 720x288 with 2 Axes>"
      ]
     },
     "metadata": {
      "needs_background": "light"
     },
     "output_type": "display_data"
    }
   ],
   "source": [
    "# Plot typical gradients and distances from prior samples\n",
    "tsamples = (np.random.randn(dim, 200)*np.sqrt(10)).T  # prior samples of theta\n",
    "prior_dists = np.triu(np.sqrt(((tsamples[:, None, :] - tsamples[None, ...])**2).sum(axis=-1)))[np.triu_indices(200)]\n",
    "\n",
    "fig, ax = plt.subplots(1, 2, figsize=(10,4))\n",
    "ax[0].hist(np.linalg.norm(logreg.gradient(tsamples.T), axis=0), label='gradients')\n",
    "\n",
    "ax[1].hist(prior_dists, label='distances')\n",
    "ax[1].axvline(np.sqrt(dim), c='C3')\n",
    "\n",
    "\n",
    "# np.linalg.norm(logreg.gradient(theta + 1.e0 * np.random.normal(theta.shape)))"
   ]
  },
  {
   "cell_type": "markdown",
   "metadata": {},
   "source": [
    "## Hamiltonian Monte Carlo\n",
    "\n",
    "Dealing with a scaled Hamiltonian:   \n",
    "HMC relies on a good balance between potential and kinetic energy. In the particular case of logistic regression, the potential energy scales roughly with $\\alpha = N/D$ as compared to the kinetic energy (which grows linearly in $D$, thus the factor of $1/D$ in $\\alpha$).\n",
    "The most straightforward way is to _choose_ the momentum such that the kinetic energy $K$ is of the same scale as the potential energy. This can be achieved by modifying the mass of the particle: A larger mass will entail a larger kinetic energy.\n",
    "Let\n",
    "$$H(q, p) = E(q) + K(p)$$\n",
    "where $K(p) = \\frac{p^T p}{2m}$. Define $K_0 (p)$ as the kinetic energy for $m=1$, such that $K(p) = \\frac{K_0(p)}{m}$. Then $p \\sim \\mathcal{N} (0, m)$. We can rewrite the Hamiltonian as\n",
    "\\begin{align}\n",
    "H(q, p) &= E(q) + \\frac{K_0(p)}{m}\\\\\n",
    "\\tilde{H} (q, p) & \\equiv m H(q, p) = m E(q) + K_0(p),\n",
    "\\end{align}\n",
    "note that $p$ still implicitly contains the mass!\n",
    "\n",
    "The Hamiltonian EOM are\n",
    "\n",
    "$$\\frac{dq}{dt}  = \\nabla_p H = \\frac{p}{m} \\qquad \\frac{dp}{dt}  = -\\nabla_q H = -\\nabla_q E$$\n",
    "\n",
    "leading to updates\n",
    "```python\n",
    "p = p - h / 2 * g\n",
    "x = x + h * p / m\n",
    "g = gradE(x)\n",
    "p = p - h / 2 * g\n",
    "```\n",
    "so this doesn't entirely alleviate the issue that the magnitude of the gradient is a lot larger than the momentum.\n",
    "On the other hand, this is an effect of the geometry of the problem in which the gradient is huge, so over small changes of the location the momentum changes by a lot (concentrated posterior).\n",
    "\n",
    "<!-- Considering the modified Hamiltonian $\\tilde{H} (q, p)$ these EOM become -->\n",
    "\n"
   ]
  },
  {
   "cell_type": "code",
   "execution_count": 47,
   "metadata": {},
   "outputs": [
    {
     "name": "stdout",
     "output_type": "stream",
     "text": [
      "3\n"
     ]
    }
   ],
   "source": [
    "seeds = np.arange(10) + 42\n",
    "\n",
    "sqrt4_d = int(np.ceil(dim**0.25))\n",
    "print(sqrt4_d)\n",
    "\n",
    "T = 50 * sqrt4_d\n",
    "# h = 3.e-1 / (sqrt4_d) # * logreg.scale()) TODO: Think about scaling the potential energy later.\n",
    "h = 5.e-2 / (sqrt4_d) # * logreg.scale()) TODO: Think about scaling the potential energy later.\n",
    "\n",
    "\n",
    "N_burn = dim\n",
    "N_sample = 2000\n",
    "\n",
    "mass=1./logreg.scale()"
   ]
  },
  {
   "cell_type": "code",
   "execution_count": 48,
   "metadata": {},
   "outputs": [],
   "source": [
    "np.random.seed(seeds[0])\n",
    "x0 = np.sqrt(prior_var)*np.random.randn(dim, 1)\n",
    "\n",
    "hmc = HamiltonianMonteCarlo(logreg.energy, logreg.gradient, T, h, mass=1., N_burn=N_burn)\n",
    "\n",
    "t_hmc = time.process_time()\n",
    "X_hmc = hmc.sample(N_sample, x0)\n",
    "t_hmc = time.process_time() - t_hmc"
   ]
  },
  {
   "cell_type": "code",
   "execution_count": 10,
   "metadata": {},
   "outputs": [
    {
     "data": {
      "text/plain": [
       "(200, 100)"
      ]
     },
     "execution_count": 10,
     "metadata": {},
     "output_type": "execute_result"
    }
   ],
   "source": [
    "X_hmc.shape"
   ]
  },
  {
   "cell_type": "code",
   "execution_count": 57,
   "metadata": {},
   "outputs": [],
   "source": [
    "np.random.seed(seeds[0])\n",
    "x0 = np.sqrt(prior_var)*np.random.randn(dim, 1)\n",
    "\n",
    "# kern = RBF(dim, 1.5) #2./dim)\n",
    "kern = RBF(dim, 10./dim) #2./dim)\n",
    "gp = DerivativeGaussianProcess(kern)\n",
    "\n",
    "tsam = (np.random.randn(dim, 25))\n",
    "gp.condition(tsam, logreg.gradient(tsam))\n",
    "\n",
    "gpg_hmc = GPGradientHMC(logreg.energy, logreg.gradient, gp_model=gp, T=T, h=h, mass=1./logreg.scale(), N_train=int(np.sqrt(dim)), N_burn=N_burn)\n",
    "# gpg_hmc = GPGradientHMC(logreg.energy, logreg.gradient, gp, T, h, N_train=20, N_burn=N_burn)\n",
    "\n",
    "\n",
    "t_gph = time.process_time()\n",
    "X_gph = gpg_hmc.sample(N_sample, x0)\n",
    "t_gph = time.process_time() - t_gph"
   ]
  },
  {
   "cell_type": "code",
   "execution_count": 58,
   "metadata": {},
   "outputs": [
    {
     "data": {
      "text/plain": [
       "25"
      ]
     },
     "execution_count": 58,
     "metadata": {},
     "output_type": "execute_result"
    }
   ],
   "source": [
    "gpg_hmc.gp_trainer.N_dat"
   ]
  },
  {
   "cell_type": "code",
   "execution_count": 30,
   "metadata": {},
   "outputs": [
    {
     "ename": "KeyError",
     "evalue": "'N_hmc'",
     "output_type": "error",
     "traceback": [
      "\u001b[0;31m---------------------------------------------------------------------------\u001b[0m",
      "\u001b[0;31mKeyError\u001b[0m                                  Traceback (most recent call last)",
      "\u001b[0;32m<ipython-input-30-d3c058cf4b96>\u001b[0m in \u001b[0;36m<module>\u001b[0;34m\u001b[0m\n\u001b[0;32m----> 1\u001b[0;31m \u001b[0mgpg_hmc\u001b[0m\u001b[0;34m.\u001b[0m\u001b[0mdiagnostics\u001b[0m\u001b[0;34m.\u001b[0m\u001b[0minfo\u001b[0m\u001b[0;34m[\u001b[0m\u001b[0;34m'N_hmc'\u001b[0m\u001b[0;34m]\u001b[0m\u001b[0;34m\u001b[0m\u001b[0;34m\u001b[0m\u001b[0m\n\u001b[0m",
      "\u001b[0;31mKeyError\u001b[0m: 'N_hmc'"
     ]
    }
   ],
   "source": [
    "gpg_hmc.diagnostics.info['N_hmc']"
   ]
  },
  {
   "cell_type": "code",
   "execution_count": 12,
   "metadata": {},
   "outputs": [],
   "source": [
    "# gpg_hmc.diagnostics.info['dists']"
   ]
  },
  {
   "cell_type": "code",
   "execution_count": 13,
   "metadata": {},
   "outputs": [
    {
     "ename": "SyntaxError",
     "evalue": "invalid syntax (<ipython-input-13-ec7d01d1c72c>, line 1)",
     "output_type": "error",
     "traceback": [
      "\u001b[0;36m  File \u001b[0;32m\"<ipython-input-13-ec7d01d1c72c>\"\u001b[0;36m, line \u001b[0;32m1\u001b[0m\n\u001b[0;31m    X_gph.shape, gp.data.\u001b[0m\n\u001b[0m                         ^\u001b[0m\n\u001b[0;31mSyntaxError\u001b[0m\u001b[0;31m:\u001b[0m invalid syntax\n"
     ]
    }
   ],
   "source": [
    "X_gph.shape, gp.data."
   ]
  },
  {
   "cell_type": "code",
   "execution_count": 11,
   "metadata": {},
   "outputs": [
    {
     "name": "stdout",
     "output_type": "stream",
     "text": [
      "22.153295256 25.244779257999998\n"
     ]
    }
   ],
   "source": [
    "print(t_hmc, t_gph)"
   ]
  },
  {
   "cell_type": "code",
   "execution_count": 59,
   "metadata": {},
   "outputs": [
    {
     "data": {
      "text/plain": [
       "(0.9865000000000004, 1.0, 0.0)"
      ]
     },
     "execution_count": 59,
     "metadata": {},
     "output_type": "execute_result"
    }
   ],
   "source": [
    "hmc.diagnostics.acceptance_rate , gpg_hmc.diagnostics.acceptance_rate, gpg_hmc.gp_trainer.diagnostics.acceptance_rate"
   ]
  },
  {
   "cell_type": "code",
   "execution_count": 13,
   "metadata": {},
   "outputs": [
    {
     "data": {
      "text/plain": [
       "True"
      ]
     },
     "execution_count": 13,
     "metadata": {},
     "output_type": "execute_result"
    }
   ],
   "source": [
    "gpg_hmc.gp_trainer.mode_gp"
   ]
  },
  {
   "cell_type": "code",
   "execution_count": 29,
   "metadata": {},
   "outputs": [
    {
     "data": {
      "text/plain": [
       "(19900,)"
      ]
     },
     "execution_count": 29,
     "metadata": {},
     "output_type": "execute_result"
    },
    {
     "data": {
      "image/png": "[encoded data removed]",
      "text/plain": [
       "<Figure size 432x288 with 1 Axes>"
      ]
     },
     "metadata": {
      "needs_background": "light"
     },
     "output_type": "display_data"
    }
   ],
   "source": [
    "dists = np.triu(np.sqrt(((X_hmc[:, None, :] - X_hmc[None, :, :])**2).sum(axis=-1)))[np.triu_indices(N_sample, k=1)]\n",
    "# dists = np.triu(np.sqrt((((gp.data['dX'].T)[None, :, :] - (gp.data['dX'].T)[:, None, :])**2).sum(axis=-1)))[np.triu_indices(5, k=1)]\n",
    "plt.hist(dists)\n",
    "plt.axvline(np.sqrt(dim)/np.log10(nx), c='C3')\n",
    "dists.shape"
   ]
  },
  {
   "cell_type": "code",
   "execution_count": 56,
   "metadata": {},
   "outputs": [
    {
     "data": {
      "text/plain": [
       "<matplotlib.legend.Legend at 0x7f9cb9d659d0>"
      ]
     },
     "execution_count": 56,
     "metadata": {},
     "output_type": "execute_result"
    },
    {
     "data": {
      "image/png": "[encoded data removed]",
      "text/plain": [
       "<Figure size 432x288 with 1 Axes>"
      ]
     },
     "metadata": {
      "needs_background": "light"
     },
     "output_type": "display_data"
    }
   ],
   "source": [
    "idx = np.argsort(theta[:,0])\n",
    "plt.plot(theta[idx], 'o' , label='true')\n",
    "# plt.plot(X_hmc.mean(axis=0)[idx], 'o', label='hmc')\n",
    "plt.errorbar(np.arange(0, max(idx)+1), X_hmc.mean(axis=0)[idx], X_hmc.std(axis=0)[idx], marker='o', ls='', label='hmc')\n",
    "# plt.plot(X_gph.mean(axis=0)[idx], 'o', label='gpg-hmc')\n",
    "plt.errorbar(np.arange(0, max(idx)+1), X_gph.mean(axis=0)[idx], X_gph.std(axis=0)[idx], marker='o', ls='', label='gpg-hmc')\n",
    "plt.plot(x0[idx], 'o', label='t0')\n",
    "# plt.xlim(40,70)\n",
    "# plt.ylim(-.1,.1)\n",
    "plt.legend()"
   ]
  },
  {
   "cell_type": "code",
   "execution_count": 15,
   "metadata": {},
   "outputs": [
    {
     "data": {
      "text/plain": [
       "(200, 100)"
      ]
     },
     "execution_count": 15,
     "metadata": {},
     "output_type": "execute_result"
    }
   ],
   "source": [
    "X_hmc.shape"
   ]
  },
  {
   "cell_type": "code",
   "execution_count": 51,
   "metadata": {},
   "outputs": [
    {
     "data": {
      "image/png": "[encoded data removed]",
      "text/plain": [
       "<Figure size 1440x288 with 5 Axes>"
      ]
     },
     "metadata": {
      "needs_background": "light"
     },
     "output_type": "display_data"
    }
   ],
   "source": [
    "# understand momentum sampled -- typical norm is ~sqrt(D)\n",
    "P = np.random.randn(dim, nx) * 1./np.sqrt(logreg.scale())\n",
    "P_abs = np.linalg.norm(P, axis=0)\n",
    "\n",
    "fig, ax = plt.subplots(1, 5, figsize=(20,4))\n",
    "ax[0].hist(P_abs)\n",
    "ax[1].hist(np.linalg.norm(logreg.gradient(X_hmc.T), axis=0), alpha=0.8)\n",
    "# ax[1].hist(np.linalg.norm(logreg.gradient(X_gph.T), axis=0), alpha=0.8)\n",
    "ax[2].hist(P_abs**2 / 2)\n",
    "ax[3].hist(np.linalg.norm(logreg.energy(X_hmc.T), axis=0), alpha=0.8)\n",
    "# ax[3].hist(np.linalg.norm(logreg.energy(X_gph.T), axis=0), alpha=0.8)\n",
    "ax[4].hist(hmc.diagnostics.info['H'], bins=50)\n",
    "# ax[4].hist(gpg_hmc.diagnostics.info['H'], bins=50)\n",
    "ax[4].set_yscale('log')\n",
    "\n",
    "titles = ['abs momentum', 'abs grad', 'kin. energy', 'pot. energy', 'Hamiltonian']\n",
    "for i, title in enumerate(titles):\n",
    "    ax[i].title.set_text(title)\n",
    "plt.show()"
   ]
  },
  {
   "cell_type": "code",
   "execution_count": 15,
   "metadata": {},
   "outputs": [],
   "source": [
    "tt = np.random.rand(dim, 1)\n",
    "\n",
    "def num_grad(t):\n",
    "    dt = 1.e-5\n",
    "    grad = np.zeros((dim, 1))\n",
    "    for i in range(t.shape[0]):\n",
    "        one_hot = np.zeros((dim, 1))\n",
    "        one_hot[i,0] = 1.\n",
    "        grad[i,0] = (logreg.energy(t + one_hot * dt) - logreg.energy(t - one_hot * dt))/(2*dt)\n",
    "    return grad\n",
    "\n",
    "np.testing.assert_array_almost_equal(num_grad(tt), logreg.gradient(tt))"
   ]
  },
  {
   "cell_type": "code",
   "execution_count": 25,
   "metadata": {},
   "outputs": [
    {
     "name": "stdout",
     "output_type": "stream",
     "text": [
      "AxesSubplot(0.125,0.125;0.133621x0.755)\n",
      "AxesSubplot(0.285345,0.125;0.133621x0.755)\n",
      "AxesSubplot(0.44569,0.125;0.133621x0.755)\n",
      "AxesSubplot(0.606034,0.125;0.133621x0.755)\n",
      "AxesSubplot(0.766379,0.125;0.133621x0.755)\n"
     ]
    }
   ],
   "source": [
    "for i, a in enumerate(ax):\n",
    "    print(a)"
   ]
  },
  {
   "cell_type": "code",
   "execution_count": 27,
   "metadata": {},
   "outputs": [
    {
     "name": "stdout",
     "output_type": "stream",
     "text": [
      "AxesSubplot(0.125,0.125;0.133621x0.755)\n"
     ]
    }
   ],
   "source": [
    "print(ax[0])"
   ]
  },
  {
   "cell_type": "code",
   "execution_count": 29,
   "metadata": {},
   "outputs": [
    {
     "data": {
      "text/plain": [
       "(0.6039215686274509, 0.803921568627451, 0.19607843137254902, 1.0)"
      ]
     },
     "execution_count": 29,
     "metadata": {},
     "output_type": "execute_result"
    }
   ],
   "source": [
    "import matplotlib\n",
    "\n",
    "matplotlib.colors.to_rgba('yellowgreen')"
   ]
  },
  {
   "cell_type": "code",
   "execution_count": null,
   "metadata": {},
   "outputs": [],
   "source": []
  }
 ],
 "metadata": {
  "kernelspec": {
   "display_name": "Python 3",
   "language": "python",
   "name": "python3"
  },
  "language_info": {
   "codemirror_mode": {
    "name": "ipython",
    "version": 3
   },
   "file_extension": ".py",
   "mimetype": "text/x-python",
   "name": "python",
   "nbconvert_exporter": "python",
   "pygments_lexer": "ipython3",
   "version": "3.7.4"
  }
 },
 "nbformat": 4,
 "nbformat_minor": 4
}
