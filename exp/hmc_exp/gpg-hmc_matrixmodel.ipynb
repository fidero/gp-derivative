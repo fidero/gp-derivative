{
 "cells": [
  {
   "cell_type": "markdown",
   "metadata": {},
   "source": [
    "# Inference in a matrix model with HMC\n",
    "\n",
    "Consider the model\n",
    "\\begin{align}\n",
    "A &\\sim \\mathcal{N} (A_0, W\\otimes W)\\\\\n",
    "B &\\sim \\mathcal{N} (B_0, V\\otimes V)\\\\\n",
    "Y \\mid A, B &\\sim A \\sim \\mathcal{N} (Y; AB, \\Sigma)\n",
    "\\end{align}\n",
    "\n",
    "Goal: Infer A, B"
   ]
  },
  {
   "cell_type": "code",
   "execution_count": 1,
   "metadata": {},
   "outputs": [],
   "source": [
    "import numpy as np\n",
    "import scipy.linalg as slinalg\n",
    "from matplotlib import pyplot as plt\n",
    "import time\n",
    "\n",
    "from hamiltonian_mc import HamiltonianMonteCarlo, GPGradientHMC\n",
    "\n",
    "# turn off numpy multithreading\n",
    "import os\n",
    "os.environ['OPENBLAS_NUM_THREADS'] = '1'\n",
    "\n",
    "import sys\n",
    "\n",
    "sys.path.append('../../src')\n",
    "from inference import DerivativeGaussianProcess\n",
    "from kernels import RBF, ExponentialKernel, LinearKernel"
   ]
  },
  {
   "cell_type": "code",
   "execution_count": 2,
   "metadata": {},
   "outputs": [],
   "source": [
    "class MatrixModel:\n",
    "    \"\"\"\n",
    "    Matrix model\n",
    "    \"\"\"\n",
    "\n",
    "    def __init__(self, Y, A0, B0, W, V, Sigma):\n",
    "        \"\"\"\n",
    "        Y: (D^2, N)\n",
    "        A0, B0: (D, D)\n",
    "        W, V: (D, D)\n",
    "        Sigma (D^2, D^2)\n",
    "        \"\"\"\n",
    "        self.Y = Y\n",
    "        self.A0 = A0\n",
    "        self.B0 = B0\n",
    "        self.dim = self.A0.shape[0]\n",
    "        \n",
    "        if self.dim > 1:\n",
    "            self.L_WkronW = slinalg.cho_factor(np.kron(W, W))\n",
    "            self.L_VkronV = slinalg.cho_factor(np.kron(V, V))\n",
    "            self.LS = slinalg.cho_factor(Sigma)\n",
    "        else:\n",
    "            self.L_WkronW = np.sqrt((np.kron(W, W)))\n",
    "            self.L_VkronV = np.sqrt((np.kron(V, V)))\n",
    "            self.LS = np.sqrt(Sigma)\n",
    "        \n",
    "\n",
    "    def _loglikelihood(self, x):\n",
    "        \"\"\"\n",
    "        log p (Y | A, B), where A, B are summarized in x\n",
    "        :param x: parameter vector (2 D^2, M)\n",
    "        \"\"\"\n",
    "        d = self.Y[..., None] - self._AB(x)[:, None, :]\n",
    "        dSd = (d * cho_solve(self.LS, d, self.dim)).sum(axis=(0,1))\n",
    "        return - 0.5 * dSd   # shape (M,)\n",
    "    \n",
    "    def _grad_loglikelihood(self, x):\n",
    "        \"\"\"\n",
    "        Gradient of Log logistic regression likelihood wrt x.\n",
    "        x: (2 D^2, M)\n",
    "        \"\"\"\n",
    "        IkronA = np.kron(np.eye(self.dim), x[:self.dim**2, :].reshape(self.dim, self.dim, order='f'))\n",
    "        BTkronI = np.kron(x[self.dim**2:, :].reshape(self.dim, self.dim, order='f').T, np.eye(self.dim))\n",
    "        d = self.Y[..., None] - self._AB(x)[:, None, :]\n",
    "        Sd = (cho_solve(self.LS, d, self.dim)).sum(axis=1)\n",
    "        \n",
    "        gradA = BTkronI.T @ Sd #assuming S is symmetric\n",
    "        gradB = IkronA.T @ Sd\n",
    "        return np.vstack([gradA.reshape(self.dim**2,-1, order='f'), gradB.reshape(self.dim**2,-1, order='f')])\n",
    "\n",
    "    def _logprior(self, x):\n",
    "        \"\"\"\n",
    "        Log Gaussian prior density of x\n",
    "        x: (2 D^2, M)\n",
    "        \"\"\"\n",
    "        a = x[:self.dim**2, :] - self.A0.reshape(-1,1, order='f')\n",
    "        b = x[self.dim**2:, :] - self.B0.reshape(-1,1, order='f')\n",
    "        aWa = (a * cho_solve(self.L_WkronW, a, self.dim)).sum(axis=0)\n",
    "        bVb = (b * cho_solve(self.L_VkronV, b, self.dim)).sum(axis=0)\n",
    "        return -0.5*(aWa + bVb)\n",
    "    \n",
    "    def _grad_logprior(self, x):\n",
    "        \"\"\"\n",
    "        Gradient of Log independent Gaussian prior density wrt x.\n",
    "        \"\"\"\n",
    "        a = x[:self.dim**2, :] - self.A0.reshape(-1,1, order='f')\n",
    "        b = x[self.dim**2:, :] - self.B0.reshape(-1,1, order='f')\n",
    "        Wa = cho_solve(self.L_WkronW, a, self.dim)\n",
    "        Vb = cho_solve(self.L_VkronV, b, self.dim)\n",
    "        return - np.vstack([Wa, Vb])\n",
    "\n",
    "    def energy(self, x):\n",
    "        return -(self._loglikelihood(x) + self._logprior(x))\n",
    "\n",
    "    def gradient(self, x):\n",
    "        return - (self._grad_loglikelihood(x) + self._grad_logprior(x))\n",
    "    \n",
    "    def _AB(self, x):\n",
    "        A = x[:self.dim**2, :].reshape(self.dim, self.dim, -1, order='f')\n",
    "        B = x[self.dim**2:, :].reshape(self.dim, self.dim, -1, order='f')\n",
    "        return np.einsum('ijk,jlk->ilk', A, B).reshape(self.dim**2, -1, order='f')\n",
    "        \n",
    "\n",
    "def cho_solve(L, b, dim):\n",
    "    if dim == 1.:\n",
    "        return b / L**2\n",
    "    return slinalg.cho_solve(L, b)"
   ]
  },
  {
   "cell_type": "code",
   "execution_count": 3,
   "metadata": {},
   "outputs": [],
   "source": [
    "def generate_matrix_data(n, A, B, Sigma):\n",
    "    \"\"\"\n",
    "    Generate data from a matrix-variate Gaussian with mean AB and cov Sigma\n",
    "    \"\"\"\n",
    "    AB = A@B\n",
    "    L = slinalg.cholesky(Sigma, lower=True)\n",
    "    Y = AB.reshape(AB.size, 1) + (L @ np.random.randn(AB.size, n))\n",
    "    return Y\n",
    "\n",
    "def draw_gaussian_matrix(A0, W):\n",
    "    L_WkW = slinalg.cholesky(np.kron(W, W), lower=True)\n",
    "    return A0 + (L_WkW @ np.random.randn(A0.size)).reshape(A0.shape)"
   ]
  },
  {
   "cell_type": "markdown",
   "metadata": {},
   "source": [
    "## Make contour plot for d=1"
   ]
  },
  {
   "cell_type": "code",
   "execution_count": 63,
   "metadata": {},
   "outputs": [],
   "source": [
    "dim = 1\n",
    "D = 2*dim**2   # effective dimensionality of problem\n",
    "ndat = 1000\n",
    "\n",
    "A0 = np.zeros((dim,dim))\n",
    "B0 = np.zeros((dim,dim))\n",
    "W = np.eye(dim)/D\n",
    "V = np.eye(dim)/D\n",
    "\n",
    "np.random.seed(0)\n",
    "A = draw_gaussian_matrix(A0, W)\n",
    "B = draw_gaussian_matrix(B0, V)\n",
    "\n",
    "x_true = np.vstack([A.reshape(-1,1, order='f'), B.reshape(-1,1, order='f')])\n",
    "\n",
    "Sigma = np.eye(dim**2) * D\n",
    "Y = generate_matrix_data(ndat, A, B, Sigma)"
   ]
  },
  {
   "cell_type": "code",
   "execution_count": 64,
   "metadata": {},
   "outputs": [],
   "source": [
    "# set up model\n",
    "mamo1 = MatrixModel(Y, A0, B0, W, V, Sigma)"
   ]
  },
  {
   "cell_type": "code",
   "execution_count": 65,
   "metadata": {},
   "outputs": [],
   "source": [
    "# generate HMC samples\n",
    "T = 100\n",
    "h = 5.e-2\n",
    "\n",
    "N_burn = dim\n",
    "N_sample = 100\n",
    "mass = 1.\n",
    "\n",
    "np.random.seed(10)\n",
    "x0 = np.vstack([draw_gaussian_matrix(A0, W).reshape(-1,1, order='f'), draw_gaussian_matrix(B0, V).reshape(-1,1, order='f')])\n",
    "\n",
    "hmc = HamiltonianMonteCarlo(mamo1.energy, mamo1.gradient, T, h, mass=mass, N_burn=N_burn)\n",
    "X_hmc = hmc.sample(N_sample, x0)"
   ]
  },
  {
   "cell_type": "code",
   "execution_count": 66,
   "metadata": {},
   "outputs": [
    {
     "data": {
      "image/png": "[encoded data removed]",
      "text/plain": [
       "<Figure size 720x360 with 3 Axes>"
      ]
     },
     "metadata": {
      "needs_background": "light"
     },
     "output_type": "display_data"
    }
   ],
   "source": [
    "N_plot = 50\n",
    "\n",
    "x_plot = np.linspace(-1.5,1.5,N_plot)\n",
    "X1, X2 = np.meshgrid(x_plot, x_plot, indexing='ij')\n",
    "X = (np.stack([X1, X2], axis=0)).reshape(2, -1)\n",
    "\n",
    "fig, ax = plt.subplots(1,2, figsize=(10,5))\n",
    "ax[0].contourf(X1, X2, np.exp(-mamo1.energy(X)).reshape(N_plot, N_plot, order='f'), cmap='coolwarm', levels=50)\n",
    "cpl = ax[1].contourf(X1, X2, mamo1.energy(X).reshape(N_plot, N_plot, order='f'), cmap='coolwarm', levels=50)\n",
    "plt.colorbar(cpl, ax=ax[1])\n",
    "for i in range(2):\n",
    "    ax[i].scatter(x0[0], x0[1], c='C1')\n",
    "    ax[i].scatter(x_true[0], x_true[1], c='w')\n",
    "    ax[i].scatter(X_hmc[:,0], X_hmc[:,1], c='k', s=1.)\n",
    "    ax[i].set_xlabel('A')\n",
    "    ax[i].set_ylabel('B')\n",
    "    ax[i].set_aspect('equal')\n",
    "   \n",
    "# plt.savefig('test.png', format='png')\n",
    "plt.show()\n"
   ]
  },
  {
   "cell_type": "markdown",
   "metadata": {},
   "source": [
    "## Generate high-dim. data"
   ]
  },
  {
   "cell_type": "code",
   "execution_count": 219,
   "metadata": {},
   "outputs": [
    {
     "data": {
      "text/plain": [
       "(16, 1000)"
      ]
     },
     "execution_count": 219,
     "metadata": {},
     "output_type": "execute_result"
    },
    {
     "data": {
      "image/png": "[encoded data removed]",
      "text/plain": [
       "<Figure size 432x288 with 1 Axes>"
      ]
     },
     "metadata": {
      "needs_background": "light"
     },
     "output_type": "display_data"
    }
   ],
   "source": [
    "dim = 4\n",
    "D = 2*dim**2   # effective dimensionality of problem\n",
    "ndat = 1000\n",
    "\n",
    "A0 = np.zeros((dim,dim))\n",
    "B0 = np.zeros((dim,dim))\n",
    "W = np.eye(dim)/D\n",
    "V = np.eye(dim)/D\n",
    "\n",
    "np.random.seed(0)\n",
    "A = draw_gaussian_matrix(A0, W)\n",
    "B = draw_gaussian_matrix(B0, V)\n",
    "\n",
    "x_true = np.vstack([A.reshape(-1,1, order='f'), B.reshape(-1,1, order='f')])\n",
    "\n",
    "plt.imshow(B)\n",
    "\n",
    "Sigma = np.eye(dim**2) * D\n",
    "\n",
    "Y = generate_matrix_data(ndat, A, B, Sigma)\n",
    "\n",
    "plt.imshow(Y)\n",
    "Y.shape"
   ]
  },
  {
   "cell_type": "markdown",
   "metadata": {},
   "source": [
    "## Set up model"
   ]
  },
  {
   "cell_type": "code",
   "execution_count": 220,
   "metadata": {},
   "outputs": [],
   "source": [
    "mamo = MatrixModel(Y, A0, B0, W, V, Sigma)"
   ]
  },
  {
   "cell_type": "markdown",
   "metadata": {},
   "source": [
    "Note: HMC will deal with a parameter vector $\\theta = [\\vec{A}, \\vec{B}]$, and data $Y$ is vectorized."
   ]
  },
  {
   "cell_type": "markdown",
   "metadata": {},
   "source": [
    "## Hamiltonian Monte Carlo"
   ]
  },
  {
   "cell_type": "code",
   "execution_count": 221,
   "metadata": {},
   "outputs": [],
   "source": [
    "seeds = np.arange(10) + 42\n",
    "\n",
    "# sqrt4_d = int(np.ceil(dim**0.25))\n",
    "\n",
    "\n",
    "# T = 50\n",
    "T = 100\n",
    "h = 5.e-2\n",
    "\n",
    "N_burn = dim\n",
    "N_sample = 100\n",
    "\n",
    "mass = 1.#D\n",
    "# mass= 1./logreg.scale()"
   ]
  },
  {
   "cell_type": "code",
   "execution_count": 222,
   "metadata": {},
   "outputs": [],
   "source": [
    "# STANDARD HMC SAMPLING\n",
    "np.random.seed(10)\n",
    "x0 = np.vstack([draw_gaussian_matrix(A0, W).reshape(-1,1, order='f'), draw_gaussian_matrix(B0, V).reshape(-1,1, order='f')])\n",
    "\n",
    "hmc = HamiltonianMonteCarlo(mamo.energy, mamo.gradient, T, h, mass=mass, N_burn=N_burn)\n",
    "\n",
    "t_hmc = time.process_time()\n",
    "X_hmc = hmc.sample(N_sample, x0)\n",
    "t_hmc = time.process_time() - t_hmc"
   ]
  },
  {
   "cell_type": "code",
   "execution_count": 234,
   "metadata": {},
   "outputs": [],
   "source": [
    "# GPG HMC SAMPLING\n",
    "np.random.seed(seeds[0])\n",
    "x0 = np.vstack([draw_gaussian_matrix(A0, W).reshape(-1,1, order='f'), draw_gaussian_matrix(B0, V).reshape(-1,1, order='f')])\n",
    "\n",
    "kern = RBF(D, 1000.)\n",
    "gp = DerivativeGaussianProcess(kern)\n",
    "\n",
    "gpg_hmc = GPGradientHMC(mamo.energy, mamo.gradient, gp_model=gp, T=T, h=h, mass=mass, N_train=10, N_burn=N_burn)\n",
    "\n",
    "t_gph = time.process_time()\n",
    "X_gph = gpg_hmc.sample(N_sample, x0)\n",
    "t_gph = time.process_time() - t_gph"
   ]
  },
  {
   "cell_type": "code",
   "execution_count": 235,
   "metadata": {},
   "outputs": [
    {
     "data": {
      "text/plain": [
       "1"
      ]
     },
     "execution_count": 235,
     "metadata": {},
     "output_type": "execute_result"
    }
   ],
   "source": [
    "gpg_hmc.gp_trainer.N_dat"
   ]
  },
  {
   "cell_type": "code",
   "execution_count": 225,
   "metadata": {},
   "outputs": [
    {
     "name": "stdout",
     "output_type": "stream",
     "text": [
      "12.471619591000007 12.383037158999969\n"
     ]
    }
   ],
   "source": [
    "print(t_hmc, t_gph)"
   ]
  },
  {
   "cell_type": "code",
   "execution_count": 226,
   "metadata": {},
   "outputs": [
    {
     "data": {
      "text/plain": [
       "(0.01999999999999999, 0.0, 0.0)"
      ]
     },
     "execution_count": 226,
     "metadata": {},
     "output_type": "execute_result"
    }
   ],
   "source": [
    "hmc.diagnostics.acceptance_rate, gpg_hmc.diagnostics.acceptance_rate, gpg_hmc.gp_trainer.diagnostics.acceptance_rate"
   ]
  },
  {
   "cell_type": "code",
   "execution_count": 36,
   "metadata": {},
   "outputs": [],
   "source": [
    "# dists = np.triu(np.sqrt(((X_hmc[:, None, :] - X_hmc[None, :, :])**2).sum(axis=-1)))[np.triu_indices(N_sample, k=1)]\n",
    "# # dists = np.triu(np.sqrt((((gp.data['dX'].T)[None, :, :] - (gp.data['dX'].T)[:, None, :])**2).sum(axis=-1)))[np.triu_indices(5, k=1)]\n",
    "# plt.hist(dists)\n",
    "# plt.yscale('log')\n",
    "# plt.axvline(np.sqrt(dim), c='C3')\n",
    "# dists.shape"
   ]
  },
  {
   "cell_type": "code",
   "execution_count": 37,
   "metadata": {},
   "outputs": [
    {
     "data": {
      "text/plain": [
       "<matplotlib.legend.Legend at 0x7fbefbfd4b90>"
      ]
     },
     "execution_count": 37,
     "metadata": {},
     "output_type": "execute_result"
    },
    {
     "data": {
      "image/png": "[encoded data removed]",
      "text/plain": [
       "<Figure size 432x288 with 1 Axes>"
      ]
     },
     "metadata": {
      "needs_background": "light"
     },
     "output_type": "display_data"
    }
   ],
   "source": [
    "idx = np.argsort(x_true[:,0])\n",
    "plt.plot(x_true[idx], 'o' , label='true')\n",
    "plt.plot(x0[idx], 'o', label='t0')\n",
    "plt.errorbar(np.arange(0, max(idx)+1), X_hmc.mean(axis=0)[idx], X_hmc.std(axis=0)[idx], marker='o', ls='', label='hmc')\n",
    "plt.errorbar(np.arange(0, max(idx)+1), X_gph.mean(axis=0)[idx], X_gph.std(axis=0)[idx], marker='o', ls='', label='gpg-hmc')\n",
    "\n",
    "plt.legend()"
   ]
  },
  {
   "cell_type": "markdown",
   "metadata": {},
   "source": [
    "### Test matrix gradient"
   ]
  },
  {
   "cell_type": "code",
   "execution_count": 91,
   "metadata": {},
   "outputs": [],
   "source": [
    "tt = np.random.randn(2*dim**2, 1)\n",
    "\n",
    "def num_grad(t, fun):\n",
    "    dt = 1.e-5\n",
    "    grad = np.zeros_like(tt)\n",
    "    for i in range(tt.shape[0]):\n",
    "        one_hot = np.zeros_like(tt)\n",
    "        one_hot[i,0] = 1.\n",
    "        grad[i,0] = (fun(t + one_hot * dt) - fun(t - one_hot * dt))/(2*dt)\n",
    "    return grad\n",
    "\n",
    "np.testing.assert_array_almost_equal(num_grad(tt, mamo._loglikelihood), mamo._grad_loglikelihood(tt))\n",
    "np.testing.assert_array_almost_equal(num_grad(tt, mamo._logprior), mamo._grad_logprior(tt))\n",
    "np.testing.assert_array_almost_equal(num_grad(tt, mamo.energy), mamo.gradient(tt))"
   ]
  },
  {
   "cell_type": "code",
   "execution_count": null,
   "metadata": {},
   "outputs": [],
   "source": []
  }
 ],
 "metadata": {
  "kernelspec": {
   "display_name": "Python 3",
   "language": "python",
   "name": "python3"
  },
  "language_info": {
   "codemirror_mode": {
    "name": "ipython",
    "version": 3
   },
   "file_extension": ".py",
   "mimetype": "text/x-python",
   "name": "python",
   "nbconvert_exporter": "python",
   "pygments_lexer": "ipython3",
   "version": "3.7.4"
  }
 },
 "nbformat": 4,
 "nbformat_minor": 4
}
